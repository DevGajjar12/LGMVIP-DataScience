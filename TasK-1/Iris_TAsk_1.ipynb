{
 "cells": [
  {
   "cell_type": "markdown",
   "source": [
    "![logo1](./logo2.png)"
   ],
   "metadata": {}
  },
  {
   "cell_type": "markdown",
   "source": [
    "![logo1](./Capture.png)"
   ],
   "metadata": {}
  },
  {
   "cell_type": "markdown",
   "source": [
    "# **Problem Statement:**\r\n",
    "This data set consists of the physical parameters of three species of flower — Versicolor, Setosa and Virginica. The numeric parameters which the dataset contains are Sepal width, Sepal length, Petal width and Petal length. In this data we will be predicting the classes of the flowers based on these parameters.The data consists of continuous numeric values which describe the dimensions of the respective features. We will be training the model based on these features.\r\n"
   ],
   "metadata": {}
  },
  {
   "cell_type": "markdown",
   "source": [
    "# **About Dataset**\r\n",
    "\r\n",
    "This is perhaps the best known database to be found in the pattern\r\n",
    "recognition literature.  Fisher's paper is a classic in the field\r\n",
    "and is referenced frequently to this day.  (See Duda & Hart, for\r\n",
    "example.)  The data set contains 3 classes of 50 instances each,\r\n",
    "where each class refers to a type of iris plant.  One class is\r\n",
    "linearly separable from the other 2; the latter are NOT linearly\r\n",
    "separable from each other.\r\n",
    "\r\n",
    "\r\n",
    "\r\n",
    "* Predicted attribute: class of iris plant.\r\n",
    "\r\n",
    "* This is an exceedingly simple domain.\r\n",
    "\r\n",
    "* This data differs from the data presented in Fishers article (identified by Steve Chadwick,  spchadwick@espeedaz.net )\r\n",
    "\r\n",
    "* The 35th sample should be: 4.9,3.1,1.5,0.2,\"Iris-setosa\" where the error is in the fourth feature.\r\n",
    "\r\n",
    "* The 38th sample: 4.9,3.6,1.4,0.1,\"Iris-setosa\" where the errors are in the second and third features.  \r\n",
    "\r\n",
    "* Number of Instances: 150 (50 in each of three classes)\r\n",
    "* Number of Attributes: 4 numeric, predictive attributes and the class\r\n",
    "* Attribute Information:\r\n",
    "   1. sepal length in cm\r\n",
    "   2. sepal width in cm\r\n",
    "   3. petal length in cm\r\n",
    "   4. petal width in cm\r\n",
    "   5. class: \r\n",
    "      * Iris Setosa\r\n",
    "      * Iris Versicolour\r\n",
    "      * Iris Virginica\r\n",
    "* Missing Attribute Values: None\r\n",
    "* Summary Statistics:\r\n",
    "    \r\n",
    "  Attributes   | Min  | Max | Mean | SD   | Class Correlation\r\n",
    "  -------------|:----:|:---:|:----:|:----:|:-----------------:\r\n",
    "  sepal length |4.3   | 7.9 | 5.84 | 0.83 | 0.7826     \r\n",
    "  sepal width  |2.0   | 4.4 | 3.05 | 0.43 |-0.4194  \r\n",
    "  petal length |1.0   | 6.9 | 3.76 | 1.76 | 0.9490  (high!)\r\n",
    "  petal length |0.1   | 2.5 | 1.20 | 0.76 | 0.9565  (high!)\r\n",
    "  \r\n",
    "  \r\n",
    "* Class Distribution: 33.3% for each of 3 classes.\r\n",
    "\r\n"
   ],
   "metadata": {}
  },
  {
   "cell_type": "code",
   "execution_count": 2,
   "source": [
    "# Importing necessary modules\r\n",
    "\r\n",
    "from sklearn.neighbors import KNeighborsClassifier  # Model Training\r\n",
    "from sklearn.svm import SVC  # Model Training\r\n",
    "from sklearn.linear_model import LogisticRegression  # Model Training\r\n",
    "from sklearn.preprocessing import StandardScaler  # Data Standardization\r\n",
    "from sklearn.model_selection import train_test_split  # Feature Extraction\r\n",
    "from sklearn import preprocessing  # Data Standardization\r\n",
    "from sklearn.metrics import accuracy_score\r\n",
    "#from sklearn.metrics import classification_report\r\n",
    "import warnings  # current version of seaborn generates a bunch of warnings that we'll ignore\r\n",
    "import matplotlib.pyplot as plt  # EDA\r\n",
    "import pickle\r\n",
    "import numpy as np  # linear algebra\r\n",
    "import pandas as pd  # data processing, CSV file I/O (e.g. pd.read_csv)\r\n",
    "import seaborn as sns  # EDA\r\n",
    "sns.set(style=\"white\", color_codes=True)\r\n",
    "%matplotlib inline\r\n",
    "warnings.filterwarnings(\"ignore\")\r\n"
   ],
   "outputs": [],
   "metadata": {}
  },
  {
   "cell_type": "markdown",
   "source": [
    "# **Data Analysis:-**"
   ],
   "metadata": {}
  },
  {
   "cell_type": "code",
   "execution_count": 3,
   "source": [
    "#Column names:\r\n",
    "from sklearn import datasets\r\n",
    "col_names = ['sepal-length', 'sepal-width','petal-length', 'petal-width', 'species']\r\n",
    "\r\n",
    "# reading the dataset into the data frame\r\n",
    "# if the dataset is in the same folder as the .ipynb notebook\r\n",
    "df = pd.read_csv(\"iris_t_1.csv\", names=col_names)\r\n",
    "\r\n",
    "#loading the iris dataset\r\n",
    "\r\n",
    "\r\n",
    "iris = datasets.load_iris()\r\n",
    "# if the dataset is not in the same folder as the .ipynb notebook\r\n",
    "# df = pd.read_csv(\"Path of the location of the dataset\",names = )\r\n",
    "df"
   ],
   "outputs": [
    {
     "output_type": "execute_result",
     "data": {
      "text/html": [
       "<div>\n",
       "<style scoped>\n",
       "    .dataframe tbody tr th:only-of-type {\n",
       "        vertical-align: middle;\n",
       "    }\n",
       "\n",
       "    .dataframe tbody tr th {\n",
       "        vertical-align: top;\n",
       "    }\n",
       "\n",
       "    .dataframe thead th {\n",
       "        text-align: right;\n",
       "    }\n",
       "</style>\n",
       "<table border=\"1\" class=\"dataframe\">\n",
       "  <thead>\n",
       "    <tr style=\"text-align: right;\">\n",
       "      <th></th>\n",
       "      <th>sepal-length</th>\n",
       "      <th>sepal-width</th>\n",
       "      <th>petal-length</th>\n",
       "      <th>petal-width</th>\n",
       "      <th>species</th>\n",
       "    </tr>\n",
       "  </thead>\n",
       "  <tbody>\n",
       "    <tr>\n",
       "      <th>0</th>\n",
       "      <td>5.1</td>\n",
       "      <td>3.5</td>\n",
       "      <td>1.4</td>\n",
       "      <td>0.2</td>\n",
       "      <td>Iris-setosa</td>\n",
       "    </tr>\n",
       "    <tr>\n",
       "      <th>1</th>\n",
       "      <td>4.9</td>\n",
       "      <td>3.0</td>\n",
       "      <td>1.4</td>\n",
       "      <td>0.2</td>\n",
       "      <td>Iris-setosa</td>\n",
       "    </tr>\n",
       "    <tr>\n",
       "      <th>2</th>\n",
       "      <td>4.7</td>\n",
       "      <td>3.2</td>\n",
       "      <td>1.3</td>\n",
       "      <td>0.2</td>\n",
       "      <td>Iris-setosa</td>\n",
       "    </tr>\n",
       "    <tr>\n",
       "      <th>3</th>\n",
       "      <td>4.6</td>\n",
       "      <td>3.1</td>\n",
       "      <td>1.5</td>\n",
       "      <td>0.2</td>\n",
       "      <td>Iris-setosa</td>\n",
       "    </tr>\n",
       "    <tr>\n",
       "      <th>4</th>\n",
       "      <td>5.0</td>\n",
       "      <td>3.6</td>\n",
       "      <td>1.4</td>\n",
       "      <td>0.2</td>\n",
       "      <td>Iris-setosa</td>\n",
       "    </tr>\n",
       "    <tr>\n",
       "      <th>...</th>\n",
       "      <td>...</td>\n",
       "      <td>...</td>\n",
       "      <td>...</td>\n",
       "      <td>...</td>\n",
       "      <td>...</td>\n",
       "    </tr>\n",
       "    <tr>\n",
       "      <th>145</th>\n",
       "      <td>6.7</td>\n",
       "      <td>3.0</td>\n",
       "      <td>5.2</td>\n",
       "      <td>2.3</td>\n",
       "      <td>Iris-virginica</td>\n",
       "    </tr>\n",
       "    <tr>\n",
       "      <th>146</th>\n",
       "      <td>6.3</td>\n",
       "      <td>2.5</td>\n",
       "      <td>5.0</td>\n",
       "      <td>1.9</td>\n",
       "      <td>Iris-virginica</td>\n",
       "    </tr>\n",
       "    <tr>\n",
       "      <th>147</th>\n",
       "      <td>6.5</td>\n",
       "      <td>3.0</td>\n",
       "      <td>5.2</td>\n",
       "      <td>2.0</td>\n",
       "      <td>Iris-virginica</td>\n",
       "    </tr>\n",
       "    <tr>\n",
       "      <th>148</th>\n",
       "      <td>6.2</td>\n",
       "      <td>3.4</td>\n",
       "      <td>5.4</td>\n",
       "      <td>2.3</td>\n",
       "      <td>Iris-virginica</td>\n",
       "    </tr>\n",
       "    <tr>\n",
       "      <th>149</th>\n",
       "      <td>5.9</td>\n",
       "      <td>3.0</td>\n",
       "      <td>5.1</td>\n",
       "      <td>1.8</td>\n",
       "      <td>Iris-virginica</td>\n",
       "    </tr>\n",
       "  </tbody>\n",
       "</table>\n",
       "<p>150 rows × 5 columns</p>\n",
       "</div>"
      ],
      "text/plain": [
       "     sepal-length  sepal-width  petal-length  petal-width         species\n",
       "0             5.1          3.5           1.4          0.2     Iris-setosa\n",
       "1             4.9          3.0           1.4          0.2     Iris-setosa\n",
       "2             4.7          3.2           1.3          0.2     Iris-setosa\n",
       "3             4.6          3.1           1.5          0.2     Iris-setosa\n",
       "4             5.0          3.6           1.4          0.2     Iris-setosa\n",
       "..            ...          ...           ...          ...             ...\n",
       "145           6.7          3.0           5.2          2.3  Iris-virginica\n",
       "146           6.3          2.5           5.0          1.9  Iris-virginica\n",
       "147           6.5          3.0           5.2          2.0  Iris-virginica\n",
       "148           6.2          3.4           5.4          2.3  Iris-virginica\n",
       "149           5.9          3.0           5.1          1.8  Iris-virginica\n",
       "\n",
       "[150 rows x 5 columns]"
      ]
     },
     "metadata": {},
     "execution_count": 3
    }
   ],
   "metadata": {}
  },
  {
   "cell_type": "code",
   "execution_count": 4,
   "source": [
    "df.head()#Show First 5 column"
   ],
   "outputs": [
    {
     "output_type": "execute_result",
     "data": {
      "text/html": [
       "<div>\n",
       "<style scoped>\n",
       "    .dataframe tbody tr th:only-of-type {\n",
       "        vertical-align: middle;\n",
       "    }\n",
       "\n",
       "    .dataframe tbody tr th {\n",
       "        vertical-align: top;\n",
       "    }\n",
       "\n",
       "    .dataframe thead th {\n",
       "        text-align: right;\n",
       "    }\n",
       "</style>\n",
       "<table border=\"1\" class=\"dataframe\">\n",
       "  <thead>\n",
       "    <tr style=\"text-align: right;\">\n",
       "      <th></th>\n",
       "      <th>sepal-length</th>\n",
       "      <th>sepal-width</th>\n",
       "      <th>petal-length</th>\n",
       "      <th>petal-width</th>\n",
       "      <th>species</th>\n",
       "    </tr>\n",
       "  </thead>\n",
       "  <tbody>\n",
       "    <tr>\n",
       "      <th>0</th>\n",
       "      <td>5.1</td>\n",
       "      <td>3.5</td>\n",
       "      <td>1.4</td>\n",
       "      <td>0.2</td>\n",
       "      <td>Iris-setosa</td>\n",
       "    </tr>\n",
       "    <tr>\n",
       "      <th>1</th>\n",
       "      <td>4.9</td>\n",
       "      <td>3.0</td>\n",
       "      <td>1.4</td>\n",
       "      <td>0.2</td>\n",
       "      <td>Iris-setosa</td>\n",
       "    </tr>\n",
       "    <tr>\n",
       "      <th>2</th>\n",
       "      <td>4.7</td>\n",
       "      <td>3.2</td>\n",
       "      <td>1.3</td>\n",
       "      <td>0.2</td>\n",
       "      <td>Iris-setosa</td>\n",
       "    </tr>\n",
       "    <tr>\n",
       "      <th>3</th>\n",
       "      <td>4.6</td>\n",
       "      <td>3.1</td>\n",
       "      <td>1.5</td>\n",
       "      <td>0.2</td>\n",
       "      <td>Iris-setosa</td>\n",
       "    </tr>\n",
       "    <tr>\n",
       "      <th>4</th>\n",
       "      <td>5.0</td>\n",
       "      <td>3.6</td>\n",
       "      <td>1.4</td>\n",
       "      <td>0.2</td>\n",
       "      <td>Iris-setosa</td>\n",
       "    </tr>\n",
       "  </tbody>\n",
       "</table>\n",
       "</div>"
      ],
      "text/plain": [
       "   sepal-length  sepal-width  petal-length  petal-width      species\n",
       "0           5.1          3.5           1.4          0.2  Iris-setosa\n",
       "1           4.9          3.0           1.4          0.2  Iris-setosa\n",
       "2           4.7          3.2           1.3          0.2  Iris-setosa\n",
       "3           4.6          3.1           1.5          0.2  Iris-setosa\n",
       "4           5.0          3.6           1.4          0.2  Iris-setosa"
      ]
     },
     "metadata": {},
     "execution_count": 4
    }
   ],
   "metadata": {}
  },
  {
   "cell_type": "code",
   "execution_count": 5,
   "source": [
    "df.tail(6)# show last 6 column"
   ],
   "outputs": [
    {
     "output_type": "execute_result",
     "data": {
      "text/html": [
       "<div>\n",
       "<style scoped>\n",
       "    .dataframe tbody tr th:only-of-type {\n",
       "        vertical-align: middle;\n",
       "    }\n",
       "\n",
       "    .dataframe tbody tr th {\n",
       "        vertical-align: top;\n",
       "    }\n",
       "\n",
       "    .dataframe thead th {\n",
       "        text-align: right;\n",
       "    }\n",
       "</style>\n",
       "<table border=\"1\" class=\"dataframe\">\n",
       "  <thead>\n",
       "    <tr style=\"text-align: right;\">\n",
       "      <th></th>\n",
       "      <th>sepal-length</th>\n",
       "      <th>sepal-width</th>\n",
       "      <th>petal-length</th>\n",
       "      <th>petal-width</th>\n",
       "      <th>species</th>\n",
       "    </tr>\n",
       "  </thead>\n",
       "  <tbody>\n",
       "    <tr>\n",
       "      <th>144</th>\n",
       "      <td>6.7</td>\n",
       "      <td>3.3</td>\n",
       "      <td>5.7</td>\n",
       "      <td>2.5</td>\n",
       "      <td>Iris-virginica</td>\n",
       "    </tr>\n",
       "    <tr>\n",
       "      <th>145</th>\n",
       "      <td>6.7</td>\n",
       "      <td>3.0</td>\n",
       "      <td>5.2</td>\n",
       "      <td>2.3</td>\n",
       "      <td>Iris-virginica</td>\n",
       "    </tr>\n",
       "    <tr>\n",
       "      <th>146</th>\n",
       "      <td>6.3</td>\n",
       "      <td>2.5</td>\n",
       "      <td>5.0</td>\n",
       "      <td>1.9</td>\n",
       "      <td>Iris-virginica</td>\n",
       "    </tr>\n",
       "    <tr>\n",
       "      <th>147</th>\n",
       "      <td>6.5</td>\n",
       "      <td>3.0</td>\n",
       "      <td>5.2</td>\n",
       "      <td>2.0</td>\n",
       "      <td>Iris-virginica</td>\n",
       "    </tr>\n",
       "    <tr>\n",
       "      <th>148</th>\n",
       "      <td>6.2</td>\n",
       "      <td>3.4</td>\n",
       "      <td>5.4</td>\n",
       "      <td>2.3</td>\n",
       "      <td>Iris-virginica</td>\n",
       "    </tr>\n",
       "    <tr>\n",
       "      <th>149</th>\n",
       "      <td>5.9</td>\n",
       "      <td>3.0</td>\n",
       "      <td>5.1</td>\n",
       "      <td>1.8</td>\n",
       "      <td>Iris-virginica</td>\n",
       "    </tr>\n",
       "  </tbody>\n",
       "</table>\n",
       "</div>"
      ],
      "text/plain": [
       "     sepal-length  sepal-width  petal-length  petal-width         species\n",
       "144           6.7          3.3           5.7          2.5  Iris-virginica\n",
       "145           6.7          3.0           5.2          2.3  Iris-virginica\n",
       "146           6.3          2.5           5.0          1.9  Iris-virginica\n",
       "147           6.5          3.0           5.2          2.0  Iris-virginica\n",
       "148           6.2          3.4           5.4          2.3  Iris-virginica\n",
       "149           5.9          3.0           5.1          1.8  Iris-virginica"
      ]
     },
     "metadata": {},
     "execution_count": 5
    }
   ],
   "metadata": {}
  },
  {
   "cell_type": "code",
   "execution_count": 6,
   "source": [
    "df.describe()  # show statistical information about data "
   ],
   "outputs": [
    {
     "output_type": "execute_result",
     "data": {
      "text/html": [
       "<div>\n",
       "<style scoped>\n",
       "    .dataframe tbody tr th:only-of-type {\n",
       "        vertical-align: middle;\n",
       "    }\n",
       "\n",
       "    .dataframe tbody tr th {\n",
       "        vertical-align: top;\n",
       "    }\n",
       "\n",
       "    .dataframe thead th {\n",
       "        text-align: right;\n",
       "    }\n",
       "</style>\n",
       "<table border=\"1\" class=\"dataframe\">\n",
       "  <thead>\n",
       "    <tr style=\"text-align: right;\">\n",
       "      <th></th>\n",
       "      <th>sepal-length</th>\n",
       "      <th>sepal-width</th>\n",
       "      <th>petal-length</th>\n",
       "      <th>petal-width</th>\n",
       "    </tr>\n",
       "  </thead>\n",
       "  <tbody>\n",
       "    <tr>\n",
       "      <th>count</th>\n",
       "      <td>150.000000</td>\n",
       "      <td>150.000000</td>\n",
       "      <td>150.000000</td>\n",
       "      <td>150.000000</td>\n",
       "    </tr>\n",
       "    <tr>\n",
       "      <th>mean</th>\n",
       "      <td>5.843333</td>\n",
       "      <td>3.054000</td>\n",
       "      <td>3.758667</td>\n",
       "      <td>1.198667</td>\n",
       "    </tr>\n",
       "    <tr>\n",
       "      <th>std</th>\n",
       "      <td>0.828066</td>\n",
       "      <td>0.433594</td>\n",
       "      <td>1.764420</td>\n",
       "      <td>0.763161</td>\n",
       "    </tr>\n",
       "    <tr>\n",
       "      <th>min</th>\n",
       "      <td>4.300000</td>\n",
       "      <td>2.000000</td>\n",
       "      <td>1.000000</td>\n",
       "      <td>0.100000</td>\n",
       "    </tr>\n",
       "    <tr>\n",
       "      <th>25%</th>\n",
       "      <td>5.100000</td>\n",
       "      <td>2.800000</td>\n",
       "      <td>1.600000</td>\n",
       "      <td>0.300000</td>\n",
       "    </tr>\n",
       "    <tr>\n",
       "      <th>50%</th>\n",
       "      <td>5.800000</td>\n",
       "      <td>3.000000</td>\n",
       "      <td>4.350000</td>\n",
       "      <td>1.300000</td>\n",
       "    </tr>\n",
       "    <tr>\n",
       "      <th>75%</th>\n",
       "      <td>6.400000</td>\n",
       "      <td>3.300000</td>\n",
       "      <td>5.100000</td>\n",
       "      <td>1.800000</td>\n",
       "    </tr>\n",
       "    <tr>\n",
       "      <th>max</th>\n",
       "      <td>7.900000</td>\n",
       "      <td>4.400000</td>\n",
       "      <td>6.900000</td>\n",
       "      <td>2.500000</td>\n",
       "    </tr>\n",
       "  </tbody>\n",
       "</table>\n",
       "</div>"
      ],
      "text/plain": [
       "       sepal-length  sepal-width  petal-length  petal-width\n",
       "count    150.000000   150.000000    150.000000   150.000000\n",
       "mean       5.843333     3.054000      3.758667     1.198667\n",
       "std        0.828066     0.433594      1.764420     0.763161\n",
       "min        4.300000     2.000000      1.000000     0.100000\n",
       "25%        5.100000     2.800000      1.600000     0.300000\n",
       "50%        5.800000     3.000000      4.350000     1.300000\n",
       "75%        6.400000     3.300000      5.100000     1.800000\n",
       "max        7.900000     4.400000      6.900000     2.500000"
      ]
     },
     "metadata": {},
     "execution_count": 6
    }
   ],
   "metadata": {}
  },
  {
   "cell_type": "code",
   "execution_count": 7,
   "source": [
    "df.info()# basic information of dataset"
   ],
   "outputs": [
    {
     "output_type": "stream",
     "name": "stdout",
     "text": [
      "<class 'pandas.core.frame.DataFrame'>\n",
      "RangeIndex: 150 entries, 0 to 149\n",
      "Data columns (total 5 columns):\n",
      " #   Column        Non-Null Count  Dtype  \n",
      "---  ------        --------------  -----  \n",
      " 0   sepal-length  150 non-null    float64\n",
      " 1   sepal-width   150 non-null    float64\n",
      " 2   petal-length  150 non-null    float64\n",
      " 3   petal-width   150 non-null    float64\n",
      " 4   species       150 non-null    object \n",
      "dtypes: float64(4), object(1)\n",
      "memory usage: 6.0+ KB\n"
     ]
    }
   ],
   "metadata": {}
  },
  {
   "cell_type": "code",
   "execution_count": 8,
   "source": [
    "df.shape[0] # shape of the dataset\r\n",
    "df.shape[1]\r\n",
    "print('There are Total {} column and {} rows in Dataset'.format(df.shape[1],df.shape[0]))"
   ],
   "outputs": [
    {
     "output_type": "stream",
     "name": "stdout",
     "text": [
      "There are Total 5 column and 150 rows in Dataset\n"
     ]
    }
   ],
   "metadata": {}
  },
  {
   "cell_type": "code",
   "execution_count": 9,
   "source": [
    "df.dtypes# show data types of each column"
   ],
   "outputs": [
    {
     "output_type": "execute_result",
     "data": {
      "text/plain": [
       "sepal-length    float64\n",
       "sepal-width     float64\n",
       "petal-length    float64\n",
       "petal-width     float64\n",
       "species          object\n",
       "dtype: object"
      ]
     },
     "metadata": {},
     "execution_count": 9
    }
   ],
   "metadata": {}
  },
  {
   "cell_type": "code",
   "execution_count": 10,
   "source": [
    "df['species'].value_counts() # show total entry each species"
   ],
   "outputs": [
    {
     "output_type": "execute_result",
     "data": {
      "text/plain": [
       "Iris-versicolor    50\n",
       "Iris-virginica     50\n",
       "Iris-setosa        50\n",
       "Name: species, dtype: int64"
      ]
     },
     "metadata": {},
     "execution_count": 10
    }
   ],
   "metadata": {}
  },
  {
   "cell_type": "markdown",
   "source": [
    "## **This data are balanced, and there are no missing values.**"
   ],
   "metadata": {}
  },
  {
   "cell_type": "code",
   "execution_count": 11,
   "source": [
    "df.isnull().sum() #check null values in dataset "
   ],
   "outputs": [
    {
     "output_type": "execute_result",
     "data": {
      "text/plain": [
       "sepal-length    0\n",
       "sepal-width     0\n",
       "petal-length    0\n",
       "petal-width     0\n",
       "species         0\n",
       "dtype: int64"
      ]
     },
     "metadata": {},
     "execution_count": 11
    }
   ],
   "metadata": {}
  },
  {
   "cell_type": "code",
   "execution_count": 12,
   "source": [
    "df.ndim # check dimension"
   ],
   "outputs": [
    {
     "output_type": "execute_result",
     "data": {
      "text/plain": [
       "2"
      ]
     },
     "metadata": {},
     "execution_count": 12
    }
   ],
   "metadata": {}
  },
  {
   "cell_type": "code",
   "execution_count": 13,
   "source": [
    "df.columns #display column name"
   ],
   "outputs": [
    {
     "output_type": "execute_result",
     "data": {
      "text/plain": [
       "Index(['sepal-length', 'sepal-width', 'petal-length', 'petal-width',\n",
       "       'species'],\n",
       "      dtype='object')"
      ]
     },
     "metadata": {},
     "execution_count": 13
    }
   ],
   "metadata": {}
  },
  {
   "cell_type": "code",
   "execution_count": 14,
   "source": [
    "df.max() #check maximum value in each column"
   ],
   "outputs": [
    {
     "output_type": "execute_result",
     "data": {
      "text/plain": [
       "sepal-length               7.9\n",
       "sepal-width                4.4\n",
       "petal-length               6.9\n",
       "petal-width                2.5\n",
       "species         Iris-virginica\n",
       "dtype: object"
      ]
     },
     "metadata": {},
     "execution_count": 14
    }
   ],
   "metadata": {}
  },
  {
   "cell_type": "code",
   "execution_count": 15,
   "source": [
    "print(df.duplicated().sum()) # check duplicate value \r\n",
    "df[df.duplicated()]\r\n"
   ],
   "outputs": [
    {
     "output_type": "stream",
     "name": "stdout",
     "text": [
      "3\n"
     ]
    },
    {
     "output_type": "execute_result",
     "data": {
      "text/html": [
       "<div>\n",
       "<style scoped>\n",
       "    .dataframe tbody tr th:only-of-type {\n",
       "        vertical-align: middle;\n",
       "    }\n",
       "\n",
       "    .dataframe tbody tr th {\n",
       "        vertical-align: top;\n",
       "    }\n",
       "\n",
       "    .dataframe thead th {\n",
       "        text-align: right;\n",
       "    }\n",
       "</style>\n",
       "<table border=\"1\" class=\"dataframe\">\n",
       "  <thead>\n",
       "    <tr style=\"text-align: right;\">\n",
       "      <th></th>\n",
       "      <th>sepal-length</th>\n",
       "      <th>sepal-width</th>\n",
       "      <th>petal-length</th>\n",
       "      <th>petal-width</th>\n",
       "      <th>species</th>\n",
       "    </tr>\n",
       "  </thead>\n",
       "  <tbody>\n",
       "    <tr>\n",
       "      <th>34</th>\n",
       "      <td>4.9</td>\n",
       "      <td>3.1</td>\n",
       "      <td>1.5</td>\n",
       "      <td>0.1</td>\n",
       "      <td>Iris-setosa</td>\n",
       "    </tr>\n",
       "    <tr>\n",
       "      <th>37</th>\n",
       "      <td>4.9</td>\n",
       "      <td>3.1</td>\n",
       "      <td>1.5</td>\n",
       "      <td>0.1</td>\n",
       "      <td>Iris-setosa</td>\n",
       "    </tr>\n",
       "    <tr>\n",
       "      <th>142</th>\n",
       "      <td>5.8</td>\n",
       "      <td>2.7</td>\n",
       "      <td>5.1</td>\n",
       "      <td>1.9</td>\n",
       "      <td>Iris-virginica</td>\n",
       "    </tr>\n",
       "  </tbody>\n",
       "</table>\n",
       "</div>"
      ],
      "text/plain": [
       "     sepal-length  sepal-width  petal-length  petal-width         species\n",
       "34            4.9          3.1           1.5          0.1     Iris-setosa\n",
       "37            4.9          3.1           1.5          0.1     Iris-setosa\n",
       "142           5.8          2.7           5.1          1.9  Iris-virginica"
      ]
     },
     "metadata": {},
     "execution_count": 15
    }
   ],
   "metadata": {}
  },
  {
   "cell_type": "markdown",
   "source": [
    "## There are three Duplicates, but as their delete this value  will lead to dataset imbalance, we will not drop them."
   ],
   "metadata": {}
  },
  {
   "cell_type": "markdown",
   "source": [
    "# **Exploratory Data Analysis (EDA):**\r\n"
   ],
   "metadata": {}
  },
  {
   "cell_type": "markdown",
   "source": [
    "# **Bar Plot:**\r\n",
    "A bar plot or bar chart is a graph that represents the category of data with rectangular bars with lengths and heights that is proportional to the values which they represent. The bar plots can be plotted horizontally or vertically. A bar chart describes the comparisons between the discrete categories. One of the axis of the plot represents the specific categories being compared, while the other axis represents the measured values corresponding to those categories."
   ],
   "metadata": {}
  },
  {
   "cell_type": "code",
   "execution_count": 16,
   "source": [
    "df['species'].value_counts().plot(kind='bar', color=['yellow', 'red', 'blue'])\r\n",
    "plt.show()"
   ],
   "outputs": [
    {
     "output_type": "display_data",
     "data": {
      "image/png": "[encoded data removed]",
      "text/plain": [
       "<Figure size 432x288 with 1 Axes>"
      ]
     },
     "metadata": {
      "needs_background": "light"
     }
    }
   ],
   "metadata": {}
  },
  {
   "cell_type": "markdown",
   "source": [
    "# **Scatter Plot:**\r\n",
    "Scatter plots are used to observe relationship between variables and uses dots to represent the relationship between them. The scatter() method in the matplotlib library is used to draw a scatter plot. Scatter plots are widely used to represent relation among variables and how change in one affects the other.\r\n"
   ],
   "metadata": {}
  },
  {
   "cell_type": "code",
   "execution_count": 17,
   "source": [
    "fig, ax = plt.subplots(1, 2)\r\n",
    "fig.set_size_inches(15, 6)\r\n",
    "sns.scatterplot(ax=ax[0], x=\"sepal-length\", y=\"sepal-width\",hue='species', data=df, palette=\"rocket\")\r\n",
    "sns.scatterplot(ax=ax[1], x=\"petal-length\", y=\"petal-width\",hue='species', data=df, palette=\"flare\")\r\n",
    "ax[0].set_title(\"Sepal length VS Sepal width\")\r\n",
    "ax[1].set_title(\"Petal length VS Petal width\")\r\n",
    "plt.show()"
   ],
   "outputs": [
    {
     "output_type": "display_data",
     "data": {
      "image/png": "[encoded data removed]",
      "text/plain": [
       "<Figure size 1080x432 with 2 Axes>"
      ]
     },
     "metadata": {
      "needs_background": "light"
     }
    }
   ],
   "metadata": {}
  },
  {
   "cell_type": "markdown",
   "source": [
    "# **Explain above plot:**\r\n",
    "\r\n",
    "From the first plot, we see that\r\n",
    "* \"Iris-setosa\" has smaller sepal_length and greater sepal_width\r\n",
    "* \"Iris-versicolor\" has a everage sepal_length and sepal_width\r\n",
    "* \"Iris-virginica\" has greater sepal_length and smaller sepal_width\r\n",
    "\r\n",
    "From the second plot, we see that\r\n",
    "* \"Iris-setosa\" has smaller petal_length and smaller sepal_width\r\n",
    "* \"Iris-versicolor\" has a average petal_length and petal_width\r\n",
    "* \"Iris-virginica\" has greater petal_length and greater petal_width"
   ],
   "metadata": {}
  },
  {
   "cell_type": "markdown",
   "source": [
    "# **Correlation:**\r\n",
    "Correlation summarizes the strength and direction of the linear(straight-line) association between two quantitative variables. A positive value for r indicates a positive association, and a negative value for r indicates a negative association.\r\n",
    "\r\n",
    "The number varies from -1 to 1.\r\n",
    "\r\n",
    "* 1 means that there is a 1 to 1 relationship(a perfect correlation), and for this data set, each time a value went up in the first column, the other one went up as well.\r\n",
    "\r\n",
    "* 0.9 is also a good relationship, and if you increase one value, the other will probably increase as well.\r\n",
    "\r\n",
    "* -0.9 would be just as good relationship as 0.9, but if you increase one value, the other will probably go down.\r\n",
    "\r\n",
    "* 0.2 means NOT a good relationship, meaning that if one value goes up does not mean that the other will.\r\n"
   ],
   "metadata": {}
  },
  {
   "cell_type": "code",
   "execution_count": 18,
   "source": [
    "df.corr()"
   ],
   "outputs": [
    {
     "output_type": "execute_result",
     "data": {
      "text/html": [
       "<div>\n",
       "<style scoped>\n",
       "    .dataframe tbody tr th:only-of-type {\n",
       "        vertical-align: middle;\n",
       "    }\n",
       "\n",
       "    .dataframe tbody tr th {\n",
       "        vertical-align: top;\n",
       "    }\n",
       "\n",
       "    .dataframe thead th {\n",
       "        text-align: right;\n",
       "    }\n",
       "</style>\n",
       "<table border=\"1\" class=\"dataframe\">\n",
       "  <thead>\n",
       "    <tr style=\"text-align: right;\">\n",
       "      <th></th>\n",
       "      <th>sepal-length</th>\n",
       "      <th>sepal-width</th>\n",
       "      <th>petal-length</th>\n",
       "      <th>petal-width</th>\n",
       "    </tr>\n",
       "  </thead>\n",
       "  <tbody>\n",
       "    <tr>\n",
       "      <th>sepal-length</th>\n",
       "      <td>1.000000</td>\n",
       "      <td>-0.109369</td>\n",
       "      <td>0.871754</td>\n",
       "      <td>0.817954</td>\n",
       "    </tr>\n",
       "    <tr>\n",
       "      <th>sepal-width</th>\n",
       "      <td>-0.109369</td>\n",
       "      <td>1.000000</td>\n",
       "      <td>-0.420516</td>\n",
       "      <td>-0.356544</td>\n",
       "    </tr>\n",
       "    <tr>\n",
       "      <th>petal-length</th>\n",
       "      <td>0.871754</td>\n",
       "      <td>-0.420516</td>\n",
       "      <td>1.000000</td>\n",
       "      <td>0.962757</td>\n",
       "    </tr>\n",
       "    <tr>\n",
       "      <th>petal-width</th>\n",
       "      <td>0.817954</td>\n",
       "      <td>-0.356544</td>\n",
       "      <td>0.962757</td>\n",
       "      <td>1.000000</td>\n",
       "    </tr>\n",
       "  </tbody>\n",
       "</table>\n",
       "</div>"
      ],
      "text/plain": [
       "              sepal-length  sepal-width  petal-length  petal-width\n",
       "sepal-length      1.000000    -0.109369      0.871754     0.817954\n",
       "sepal-width      -0.109369     1.000000     -0.420516    -0.356544\n",
       "petal-length      0.871754    -0.420516      1.000000     0.962757\n",
       "petal-width       0.817954    -0.356544      0.962757     1.000000"
      ]
     },
     "metadata": {},
     "execution_count": 18
    }
   ],
   "metadata": {}
  },
  {
   "cell_type": "code",
   "execution_count": 19,
   "source": [
    "df.corr().style.background_gradient(cmap='autumn').set_precision(2)"
   ],
   "outputs": [
    {
     "output_type": "execute_result",
     "data": {
      "text/html": [
       "<style  type=\"text/css\" >\n",
       "#T_baa56_row0_col0,#T_baa56_row1_col1,#T_baa56_row2_col2,#T_baa56_row3_col3{\n",
       "            background-color:  #ffff00;\n",
       "            color:  #000000;\n",
       "        }#T_baa56_row0_col1{\n",
       "            background-color:  #ff3800;\n",
       "            color:  #f1f1f1;\n",
       "        }#T_baa56_row0_col2{\n",
       "            background-color:  #ffe800;\n",
       "            color:  #000000;\n",
       "        }#T_baa56_row0_col3{\n",
       "            background-color:  #ffdd00;\n",
       "            color:  #000000;\n",
       "        }#T_baa56_row1_col0,#T_baa56_row1_col2,#T_baa56_row1_col3,#T_baa56_row2_col1{\n",
       "            background-color:  #ff0000;\n",
       "            color:  #f1f1f1;\n",
       "        }#T_baa56_row2_col0{\n",
       "            background-color:  #ffe200;\n",
       "            color:  #000000;\n",
       "        }#T_baa56_row2_col3{\n",
       "            background-color:  #fff800;\n",
       "            color:  #000000;\n",
       "        }#T_baa56_row3_col0{\n",
       "            background-color:  #ffd500;\n",
       "            color:  #000000;\n",
       "        }#T_baa56_row3_col1{\n",
       "            background-color:  #ff0b00;\n",
       "            color:  #f1f1f1;\n",
       "        }#T_baa56_row3_col2{\n",
       "            background-color:  #fff900;\n",
       "            color:  #000000;\n",
       "        }</style><table id=\"T_baa56_\" ><thead>    <tr>        <th class=\"blank level0\" ></th>        <th class=\"col_heading level0 col0\" >sepal-length</th>        <th class=\"col_heading level0 col1\" >sepal-width</th>        <th class=\"col_heading level0 col2\" >petal-length</th>        <th class=\"col_heading level0 col3\" >petal-width</th>    </tr></thead><tbody>\n",
       "                <tr>\n",
       "                        <th id=\"T_baa56_level0_row0\" class=\"row_heading level0 row0\" >sepal-length</th>\n",
       "                        <td id=\"T_baa56_row0_col0\" class=\"data row0 col0\" >1.00</td>\n",
       "                        <td id=\"T_baa56_row0_col1\" class=\"data row0 col1\" >-0.11</td>\n",
       "                        <td id=\"T_baa56_row0_col2\" class=\"data row0 col2\" >0.87</td>\n",
       "                        <td id=\"T_baa56_row0_col3\" class=\"data row0 col3\" >0.82</td>\n",
       "            </tr>\n",
       "            <tr>\n",
       "                        <th id=\"T_baa56_level0_row1\" class=\"row_heading level0 row1\" >sepal-width</th>\n",
       "                        <td id=\"T_baa56_row1_col0\" class=\"data row1 col0\" >-0.11</td>\n",
       "                        <td id=\"T_baa56_row1_col1\" class=\"data row1 col1\" >1.00</td>\n",
       "                        <td id=\"T_baa56_row1_col2\" class=\"data row1 col2\" >-0.42</td>\n",
       "                        <td id=\"T_baa56_row1_col3\" class=\"data row1 col3\" >-0.36</td>\n",
       "            </tr>\n",
       "            <tr>\n",
       "                        <th id=\"T_baa56_level0_row2\" class=\"row_heading level0 row2\" >petal-length</th>\n",
       "                        <td id=\"T_baa56_row2_col0\" class=\"data row2 col0\" >0.87</td>\n",
       "                        <td id=\"T_baa56_row2_col1\" class=\"data row2 col1\" >-0.42</td>\n",
       "                        <td id=\"T_baa56_row2_col2\" class=\"data row2 col2\" >1.00</td>\n",
       "                        <td id=\"T_baa56_row2_col3\" class=\"data row2 col3\" >0.96</td>\n",
       "            </tr>\n",
       "            <tr>\n",
       "                        <th id=\"T_baa56_level0_row3\" class=\"row_heading level0 row3\" >petal-width</th>\n",
       "                        <td id=\"T_baa56_row3_col0\" class=\"data row3 col0\" >0.82</td>\n",
       "                        <td id=\"T_baa56_row3_col1\" class=\"data row3 col1\" >-0.36</td>\n",
       "                        <td id=\"T_baa56_row3_col2\" class=\"data row3 col2\" >0.96</td>\n",
       "                        <td id=\"T_baa56_row3_col3\" class=\"data row3 col3\" >1.00</td>\n",
       "            </tr>\n",
       "    </tbody></table>"
      ],
      "text/plain": [
       "<pandas.io.formats.style.Styler at 0x14bb3be1b20>"
      ]
     },
     "metadata": {},
     "execution_count": 19
    }
   ],
   "metadata": {}
  },
  {
   "cell_type": "markdown",
   "source": [
    "# **Heat Map:**\r\n",
    " **A heat map (or heatmap) is a data visualization technique that shows magnitude of a phenomenon as color in two dimensions. The variation in color may be by hue or intensity, giving obvious visual cues to the reader about how the phenomenon is clustered or varies over space.**"
   ],
   "metadata": {}
  },
  {
   "cell_type": "code",
   "execution_count": 20,
   "source": [
    "plt.figure()\r\n",
    "sns.heatmap(df.corr(), annot=True)\r\n",
    "plt.show()"
   ],
   "outputs": [
    {
     "output_type": "display_data",
     "data": {
      "image/png": "[encoded data removed]",
      "text/plain": [
       "<Figure size 432x288 with 2 Axes>"
      ]
     },
     "metadata": {
      "needs_background": "light"
     }
    }
   ],
   "metadata": {}
  },
  {
   "cell_type": "markdown",
   "source": [
    "# **Violin plot:**\r\n",
    "\r\n",
    "**A violin plot plays a similar activity that is pursued through whisker or box plot do. As it shows several quantitative data across one or more categorical variables. It can be an effective and attractive way to show multiple data at several units.**\r\n",
    "\r\n",
    "**Plotting the violin plot to check the comparison of a variable distribution:**\r\n"
   ],
   "metadata": {}
  },
  {
   "cell_type": "code",
   "execution_count": 21,
   "source": [
    "plt.figure(figsize=(12, 8))\r\n",
    "plt.subplot(2, 2, 1)\r\n",
    "sns.violinplot(x='species', y='sepal-length', data=df, palette=\"husl\")\r\n",
    "plt.subplot(2, 2, 2)\r\n",
    "sns.violinplot(x='species', y='sepal-width', data=df, palette=\"flare\")\r\n",
    "plt.subplot(2, 2, 3)\r\n",
    "sns.violinplot(x='species', y='petal-length', data=df, palette=\"rocket\")\r\n",
    "plt.subplot(2, 2, 4)\r\n",
    "sns.violinplot(x='species', y='petal-width', data=df, palette=\"Paired\")\r\n",
    "plt.show()"
   ],
   "outputs": [
    {
     "output_type": "display_data",
     "data": {
      "image/png": "[encoded data removed]",
      "text/plain": [
       "<Figure size 864x576 with 4 Axes>"
      ]
     },
     "metadata": {
      "needs_background": "light"
     }
    }
   ],
   "metadata": {}
  },
  {
   "cell_type": "markdown",
   "source": [
    "## **Histogram:**\r\n",
    "\r\n",
    "**A histogram is basically used to represent data provided in a form of some groups.It is accurate method for the graphical representation of numerical data distribution.It is a type of bar plot where X-axis represents the bin ranges while Y-axis gives information about frequency.**\r\n"
   ],
   "metadata": {}
  },
  {
   "cell_type": "code",
   "execution_count": 22,
   "source": [
    "df.hist(edgecolor='black', linewidth=1.2, color='gray')\r\n",
    "fig = plt.gcf()\r\n",
    "plt.tight_layout()\r\n",
    "fig.set_size_inches(8, 6)\r\n"
   ],
   "outputs": [
    {
     "output_type": "display_data",
     "data": {
      "image/png": "[encoded data removed]",
      "text/plain": [
       "<Figure size 576x432 with 4 Axes>"
      ]
     },
     "metadata": {
      "needs_background": "light"
     }
    }
   ],
   "metadata": {}
  },
  {
   "cell_type": "code",
   "execution_count": 23,
   "source": [
    "fig, axes = plt.subplots(2, 2, figsize=(16, 9))\r\n",
    "sns.histplot(ax=axes[0, 0], data=df, x='sepal-width',hue='species', kde=True, palette=\"rocket\")\r\n",
    "sns.histplot(ax=axes[0, 1], data=df, x='sepal-length',hue='species', kde=True, palette=\"pastel\")\r\n",
    "sns.histplot(ax=axes[1, 0], data=df, x='petal-width',hue='species', kde=True, palette=\"dark\")\r\n",
    "sns.histplot(ax=axes[1, 1], data=df, x='petal-length',hue='species', kde=True, palette=\"flare\")\r\n",
    "plt.show()"
   ],
   "outputs": [
    {
     "output_type": "display_data",
     "data": {
      "image/png": "[encoded data removed]",
      "text/plain": [
       "<Figure size 1152x648 with 4 Axes>"
      ]
     },
     "metadata": {
      "needs_background": "light"
     }
    }
   ],
   "metadata": {}
  },
  {
   "cell_type": "markdown",
   "source": [
    "# **Conclusions drawn from Exploratory Data Analysis (EDA):**\r\n",
    "1. The dataset choosen is balanced, as there are equal number of records in all the three species.\r\n",
    "2. We have four numerical columns and one is just a categorical column,  which is our target variable.\r\n",
    "3. Strong correlation is present in between the petal length and petal width as the value of correlaton is 0.96.\r\n",
    "4. The Iris-setosa species are most distinguishable because it sepeartes itself from other features because of its small size.\r\n",
    "5. The Versicolor and Virginica species are usually mixed and are sometimes hard to separate. While usually Versicolor has average feature sizes, virginica has larger feature sizes.\r\n",
    "6. We do have some outliers and duplicates but we just have 150 records, and outliers are not putting a big impact. So we have not wrangled them."
   ],
   "metadata": {}
  },
  {
   "cell_type": "markdown",
   "source": [
    "# **Label Encoders for the dataset:**\r\n",
    "**In machine learning, we usually deal with datasets that contain multiple labels in one or more than one column. These labels can be in the form of words or numbers. To make the data understandable or in human-readable form, the training data is often labelled in words.**\r\n",
    "\r\n",
    "**Label Encoding refers to converting the labels into a numeric form so as to convert them into the machine-readable form. Machine learning algorithms can then decide in a better way how those labels must be operated. It is an important pre-processing step for the structured dataset in supervised learning.**\r\n",
    "\r\n",
    "![Example](./label2.png)"
   ],
   "metadata": {}
  },
  {
   "cell_type": "code",
   "execution_count": 24,
   "source": [
    "# label_encoder object knows how to understand word labels.\r\n",
    "label_encoder = preprocessing.LabelEncoder()\r\n",
    "\r\n",
    "# Encode labels in column 'species'.\r\n",
    "df['species'] = label_encoder.fit_transform(df['species'])\r\n",
    "\r\n",
    "df['species'].unique()\r\n"
   ],
   "outputs": [
    {
     "output_type": "execute_result",
     "data": {
      "text/plain": [
       "array([0, 1, 2])"
      ]
     },
     "metadata": {},
     "execution_count": 24
    }
   ],
   "metadata": {}
  },
  {
   "cell_type": "code",
   "execution_count": 25,
   "source": [
    "df.head()"
   ],
   "outputs": [
    {
     "output_type": "execute_result",
     "data": {
      "text/html": [
       "<div>\n",
       "<style scoped>\n",
       "    .dataframe tbody tr th:only-of-type {\n",
       "        vertical-align: middle;\n",
       "    }\n",
       "\n",
       "    .dataframe tbody tr th {\n",
       "        vertical-align: top;\n",
       "    }\n",
       "\n",
       "    .dataframe thead th {\n",
       "        text-align: right;\n",
       "    }\n",
       "</style>\n",
       "<table border=\"1\" class=\"dataframe\">\n",
       "  <thead>\n",
       "    <tr style=\"text-align: right;\">\n",
       "      <th></th>\n",
       "      <th>sepal-length</th>\n",
       "      <th>sepal-width</th>\n",
       "      <th>petal-length</th>\n",
       "      <th>petal-width</th>\n",
       "      <th>species</th>\n",
       "    </tr>\n",
       "  </thead>\n",
       "  <tbody>\n",
       "    <tr>\n",
       "      <th>0</th>\n",
       "      <td>5.1</td>\n",
       "      <td>3.5</td>\n",
       "      <td>1.4</td>\n",
       "      <td>0.2</td>\n",
       "      <td>0</td>\n",
       "    </tr>\n",
       "    <tr>\n",
       "      <th>1</th>\n",
       "      <td>4.9</td>\n",
       "      <td>3.0</td>\n",
       "      <td>1.4</td>\n",
       "      <td>0.2</td>\n",
       "      <td>0</td>\n",
       "    </tr>\n",
       "    <tr>\n",
       "      <th>2</th>\n",
       "      <td>4.7</td>\n",
       "      <td>3.2</td>\n",
       "      <td>1.3</td>\n",
       "      <td>0.2</td>\n",
       "      <td>0</td>\n",
       "    </tr>\n",
       "    <tr>\n",
       "      <th>3</th>\n",
       "      <td>4.6</td>\n",
       "      <td>3.1</td>\n",
       "      <td>1.5</td>\n",
       "      <td>0.2</td>\n",
       "      <td>0</td>\n",
       "    </tr>\n",
       "    <tr>\n",
       "      <th>4</th>\n",
       "      <td>5.0</td>\n",
       "      <td>3.6</td>\n",
       "      <td>1.4</td>\n",
       "      <td>0.2</td>\n",
       "      <td>0</td>\n",
       "    </tr>\n",
       "  </tbody>\n",
       "</table>\n",
       "</div>"
      ],
      "text/plain": [
       "   sepal-length  sepal-width  petal-length  petal-width  species\n",
       "0           5.1          3.5           1.4          0.2        0\n",
       "1           4.9          3.0           1.4          0.2        0\n",
       "2           4.7          3.2           1.3          0.2        0\n",
       "3           4.6          3.1           1.5          0.2        0\n",
       "4           5.0          3.6           1.4          0.2        0"
      ]
     },
     "metadata": {},
     "execution_count": 25
    }
   ],
   "metadata": {}
  },
  {
   "cell_type": "code",
   "execution_count": 26,
   "source": [
    "df.tail()"
   ],
   "outputs": [
    {
     "output_type": "execute_result",
     "data": {
      "text/html": [
       "<div>\n",
       "<style scoped>\n",
       "    .dataframe tbody tr th:only-of-type {\n",
       "        vertical-align: middle;\n",
       "    }\n",
       "\n",
       "    .dataframe tbody tr th {\n",
       "        vertical-align: top;\n",
       "    }\n",
       "\n",
       "    .dataframe thead th {\n",
       "        text-align: right;\n",
       "    }\n",
       "</style>\n",
       "<table border=\"1\" class=\"dataframe\">\n",
       "  <thead>\n",
       "    <tr style=\"text-align: right;\">\n",
       "      <th></th>\n",
       "      <th>sepal-length</th>\n",
       "      <th>sepal-width</th>\n",
       "      <th>petal-length</th>\n",
       "      <th>petal-width</th>\n",
       "      <th>species</th>\n",
       "    </tr>\n",
       "  </thead>\n",
       "  <tbody>\n",
       "    <tr>\n",
       "      <th>145</th>\n",
       "      <td>6.7</td>\n",
       "      <td>3.0</td>\n",
       "      <td>5.2</td>\n",
       "      <td>2.3</td>\n",
       "      <td>2</td>\n",
       "    </tr>\n",
       "    <tr>\n",
       "      <th>146</th>\n",
       "      <td>6.3</td>\n",
       "      <td>2.5</td>\n",
       "      <td>5.0</td>\n",
       "      <td>1.9</td>\n",
       "      <td>2</td>\n",
       "    </tr>\n",
       "    <tr>\n",
       "      <th>147</th>\n",
       "      <td>6.5</td>\n",
       "      <td>3.0</td>\n",
       "      <td>5.2</td>\n",
       "      <td>2.0</td>\n",
       "      <td>2</td>\n",
       "    </tr>\n",
       "    <tr>\n",
       "      <th>148</th>\n",
       "      <td>6.2</td>\n",
       "      <td>3.4</td>\n",
       "      <td>5.4</td>\n",
       "      <td>2.3</td>\n",
       "      <td>2</td>\n",
       "    </tr>\n",
       "    <tr>\n",
       "      <th>149</th>\n",
       "      <td>5.9</td>\n",
       "      <td>3.0</td>\n",
       "      <td>5.1</td>\n",
       "      <td>1.8</td>\n",
       "      <td>2</td>\n",
       "    </tr>\n",
       "  </tbody>\n",
       "</table>\n",
       "</div>"
      ],
      "text/plain": [
       "     sepal-length  sepal-width  petal-length  petal-width  species\n",
       "145           6.7          3.0           5.2          2.3        2\n",
       "146           6.3          2.5           5.0          1.9        2\n",
       "147           6.5          3.0           5.2          2.0        2\n",
       "148           6.2          3.4           5.4          2.3        2\n",
       "149           5.9          3.0           5.1          1.8        2"
      ]
     },
     "metadata": {},
     "execution_count": 26
    }
   ],
   "metadata": {}
  },
  {
   "cell_type": "markdown",
   "source": [
    "# **Dividing data into features and labels (FEATURE SELECTION):**"
   ],
   "metadata": {}
  },
  {
   "cell_type": "code",
   "execution_count": 27,
   "source": [
    "# Seperating the data into dependent and independent variables\r\n",
    "X = df.iloc[:, :-1].values\r\n",
    "y = df.iloc[:, -1].values\r\n"
   ],
   "outputs": [],
   "metadata": {}
  },
  {
   "cell_type": "code",
   "execution_count": 28,
   "source": [
    "# Splitting the dataset into the Training and Testing datasets\r\n",
    "X_train, X_test, y_train, y_test = train_test_split(X, y, test_size=0.25, shuffle=True, random_state=5)\r\n",
    "# Here: traiining dataset = 70% and testing dataset = 30%"
   ],
   "outputs": [],
   "metadata": {}
  },
  {
   "cell_type": "markdown",
   "source": [
    "# Data Standardisation:\r\n",
    "1. Data standardization is the process of converting data to a common format to enable users to process and analyze it.\r\n",
    "2. Data standardization means your data is internally consistent — each of your data sources has the same format and labels. When your data is neatly organized with logical descriptions and labels, everyone in your organization can understand it and put it to use.\r\n",
    "3. The purpose of data standardization is to make your data consistent and clear. Consistent is ensuring that the output is reliable so that related data can be identified using common terminology and format.\r\n",
    "4. In sklearn.preprocessing.StandardScaler(), centering and scaling happens independently on each feature.\r\n",
    "\r\n",
    "In logistic regression, we will do feature scaling because we want accurate result of predictions. Here we will only scale the independent variable because dependent variable have only 0 and 1 values."
   ],
   "metadata": {}
  },
  {
   "cell_type": "code",
   "execution_count": 29,
   "source": [
    "#feature Scaling\r\n",
    "std_x = StandardScaler()\r\n",
    "X_train = std_x.fit_transform(X_train)\r\n",
    "X_test = std_x.transform(X_test)"
   ],
   "outputs": [],
   "metadata": {}
  },
  {
   "cell_type": "markdown",
   "source": [
    "# **Logistic Regression Model(LR):-**\r\n",
    "**Logistic Regression is a Machine Learning classification algorithm that is used to predict the probability of a categorical dependent variable. In logistic regression, the dependent variable is a binary variable that contains data coded as 1 (yes, success, etc.) or 0 (no, failure, etc.)**"
   ],
   "metadata": {}
  },
  {
   "cell_type": "code",
   "execution_count": 30,
   "source": [
    "#Fitting Logistic Regression to the training set  \r\n",
    "classifier=LogisticRegression()\r\n",
    "classifier.fit(X_train, y_train)"
   ],
   "outputs": [
    {
     "output_type": "execute_result",
     "data": {
      "text/plain": [
       "LogisticRegression()"
      ]
     },
     "metadata": {},
     "execution_count": 30
    }
   ],
   "metadata": {}
  },
  {
   "cell_type": "code",
   "execution_count": 31,
   "source": [
    "# Predicting the test dataset result\r\n",
    "y_pred = classifier.predict(X_test)"
   ],
   "outputs": [],
   "metadata": {}
  },
  {
   "cell_type": "markdown",
   "source": [
    "We have created a y_pred vector to predict the test set result in the above code."
   ],
   "metadata": {}
  },
  {
   "cell_type": "code",
   "execution_count": 32,
   "source": [
    "y_pred"
   ],
   "outputs": [
    {
     "output_type": "execute_result",
     "data": {
      "text/plain": [
       "array([1, 1, 2, 0, 2, 1, 0, 2, 0, 1, 1, 1, 2, 2, 0, 0, 2, 2, 0, 0, 1, 2,\n",
       "       0, 1, 1, 2, 1, 1, 1, 2, 0, 1, 1, 0, 1, 0, 0, 2])"
      ]
     },
     "metadata": {},
     "execution_count": 32
    }
   ],
   "metadata": {}
  },
  {
   "cell_type": "code",
   "execution_count": 33,
   "source": [
    "print('accuracy is', accuracy_score(y_pred, y_test)*100, \"%\")"
   ],
   "outputs": [
    {
     "output_type": "stream",
     "name": "stdout",
     "text": [
      "accuracy is 92.10526315789474 %\n"
     ]
    }
   ],
   "metadata": {}
  },
  {
   "cell_type": "code",
   "execution_count": 34,
   "source": [
    "# Accuracy of the model\r\n",
    "acc = round(accuracy_score(y_pred, y_test)*100, 2)\r\n",
    "print('Accuracy for LR is', acc, \"%\")\r\n"
   ],
   "outputs": [
    {
     "output_type": "stream",
     "name": "stdout",
     "text": [
      "Accuracy for LR is 92.11 %\n"
     ]
    }
   ],
   "metadata": {}
  },
  {
   "cell_type": "markdown",
   "source": [
    "# **Support Vector Machine(SVM):-**\r\n",
    "* “Support Vector Machine” (SVM) is a supervised machine learning algorithm that can be used for both classification or regression challenges. However, it is mostly used in classification problems. \r\n",
    "* Support vector machines are a set of supervised learning methods used for classification, regression, and outliers detection. All of these are common tasks in machine learning.\r\n",
    "* In the SVM algorithm, we plot each data item as a point in n-dimensional space (where n is a number of features you have) with the value of each feature being the value of a particular coordinate. Then, we perform classification by finding the hyper-plane that differentiates the two classes very well.\r\n",
    "\r\n",
    "**HOW DOES SVM WORK?**\r\n",
    "A simple linear SVM classifier works by making a straight line between two classes. That means all of the data points on one side of the line will represent a category and the data points on the other side of the line will be put into a different category. This means there can be an infinite number of lines to choose from.\r\n",
    "\r\n",
    "**STEPS:**\r\n",
    "* Import the dataset\r\n",
    "* Explore the data to figure out what they look like\r\n",
    "* Pre-process the data\r\n",
    "* Split the data into attributes and labels\r\n",
    "* Divide the data into training and testing sets\r\n",
    "* Train the SVM algorithm\r\n",
    "* Make some predictions\r\n",
    "* Evaluate the results of the algorithm"
   ],
   "metadata": {}
  },
  {
   "cell_type": "code",
   "execution_count": 35,
   "source": [
    "classifier_1 = SVC(random_state=5)\r\n",
    "classifier_1.fit(X_train, y_train)"
   ],
   "outputs": [
    {
     "output_type": "execute_result",
     "data": {
      "text/plain": [
       "SVC(random_state=5)"
      ]
     },
     "metadata": {},
     "execution_count": 35
    }
   ],
   "metadata": {}
  },
  {
   "cell_type": "code",
   "execution_count": 36,
   "source": [
    "#Predicting the test set result\r\n",
    "y_pred1 = classifier_1.predict(X_test)"
   ],
   "outputs": [],
   "metadata": {}
  },
  {
   "cell_type": "code",
   "execution_count": 37,
   "source": [
    "y_pred1"
   ],
   "outputs": [
    {
     "output_type": "execute_result",
     "data": {
      "text/plain": [
       "array([1, 2, 2, 0, 2, 1, 0, 2, 0, 1, 1, 1, 2, 2, 0, 0, 2, 2, 0, 0, 1, 2,\n",
       "       0, 1, 1, 2, 1, 1, 1, 2, 0, 1, 1, 0, 1, 0, 0, 2])"
      ]
     },
     "metadata": {},
     "execution_count": 37
    }
   ],
   "metadata": {}
  },
  {
   "cell_type": "code",
   "execution_count": 38,
   "source": [
    "# Accuracy of the model\r\n",
    "acc1 = round(accuracy_score(y_pred1, y_test)*100, 2)\r\n",
    "print('Accuracy of SVM is', acc1, \"%\")\r\n"
   ],
   "outputs": [
    {
     "output_type": "stream",
     "name": "stdout",
     "text": [
      "Accuracy of SVM is 94.74 %\n"
     ]
    }
   ],
   "metadata": {}
  },
  {
   "cell_type": "markdown",
   "source": [
    "# **K-Nearest Neighbour Classifier(KNN):**\r\n",
    "It is the learning where the value or result that we want to predict is within the training data (labeled data) and the value which is in data that we want to study is known as Target or Dependent Variable or Response Variable.\r\n",
    "\r\n",
    " All the other columns in the dataset are known as the Feature or Predictor Variable or Independent Variable."
   ],
   "metadata": {}
  },
  {
   "cell_type": "markdown",
   "source": [
    "The following steps will help us understand the working:\r\n",
    "\r\n",
    "1. We must load the training as well as test data from the loaded dataset.\r\n",
    "2. We need to choose the value of K (the nearest data points). It can be any integer.\r\n",
    "3. * Calculate the distance between test data and each row of training data with the help of any of the method namely: **Euclidean, Hamming distance**. *The most **commonly used method** to calculate distance is **Euclidean**.*\r\n",
    "* Based on the distance value, sort them in ascending order.\r\n",
    "* It (the algorithm) will choose the top K rows from the sorted array.\r\n",
    "* It will assign a class to the test point based on most frequent class of these rows.\r\n",
    "4. Model Created Successfully."
   ],
   "metadata": {}
  },
  {
   "cell_type": "code",
   "execution_count": 39,
   "source": [
    "#Fitting K-NN classifier to the Training data\r\n",
    "classifier_2 = KNeighborsClassifier(n_neighbors=5, metric='minkowski', p=2)\r\n",
    "classifier_2.fit(X_train, y_train)"
   ],
   "outputs": [
    {
     "output_type": "execute_result",
     "data": {
      "text/plain": [
       "KNeighborsClassifier()"
      ]
     },
     "metadata": {},
     "execution_count": 39
    }
   ],
   "metadata": {}
  },
  {
   "cell_type": "markdown",
   "source": [
    "* ***n_neighbors***: To define the required neighbors of the algorithm. Usually, it takes 5.\r\n",
    "* ***metric = 'minkowski'***: This is the default parameter and it decides the distance between the points.\r\n",
    "* ***p = 2***: It is equivalent to the standard Euclidean metric.\r\n"
   ],
   "metadata": {}
  },
  {
   "cell_type": "code",
   "execution_count": 40,
   "source": [
    "#Predicting the test set result\r\n",
    "y_pred2 = classifier_2.predict(X_test)\r\n"
   ],
   "outputs": [],
   "metadata": {}
  },
  {
   "cell_type": "code",
   "execution_count": 41,
   "source": [
    "y_pred2"
   ],
   "outputs": [
    {
     "output_type": "execute_result",
     "data": {
      "text/plain": [
       "array([1, 2, 2, 0, 2, 1, 0, 2, 0, 1, 1, 1, 2, 2, 0, 0, 2, 2, 0, 0, 1, 2,\n",
       "       0, 1, 1, 2, 1, 1, 1, 2, 0, 1, 1, 0, 1, 0, 0, 2])"
      ]
     },
     "metadata": {},
     "execution_count": 41
    }
   ],
   "metadata": {}
  },
  {
   "cell_type": "code",
   "execution_count": 42,
   "source": [
    "print('accuracy is', accuracy_score(y_pred2, y_test)*100, \"%\")\r\n"
   ],
   "outputs": [
    {
     "output_type": "stream",
     "name": "stdout",
     "text": [
      "accuracy is 94.73684210526315 %\n"
     ]
    }
   ],
   "metadata": {}
  },
  {
   "cell_type": "code",
   "execution_count": 43,
   "source": [
    "classifier_2 = KNeighborsClassifier(n_neighbors=6, metric='minkowski', p=2)\r\n",
    "classifier_2.fit(X_train, y_train)\r\n",
    "prediction = classifier_2.predict(X_test)"
   ],
   "outputs": [],
   "metadata": {}
  },
  {
   "cell_type": "code",
   "execution_count": 44,
   "source": [
    "# Accuracy of the model\r\n",
    "acc2 = round(accuracy_score(prediction, y_test)*100, 2)\r\n",
    "print('Accuracy of KNN is', acc2, \"%\")\r\n"
   ],
   "outputs": [
    {
     "output_type": "stream",
     "name": "stdout",
     "text": [
      "Accuracy of KNN is 97.37 %\n"
     ]
    }
   ],
   "metadata": {}
  },
  {
   "cell_type": "markdown",
   "source": [
    "# **Decide which is the Best Model:**"
   ],
   "metadata": {}
  },
  {
   "cell_type": "code",
   "execution_count": 45,
   "source": [
    "results = pd.DataFrame({\r\n",
    "    'Models': ['Logistic Regression','Support Vector Machine (SVM)','K-Nearest Neighbours'],\r\n",
    "    \"Accuracy-score\":[acc,acc1,acc2]})\r\n",
    "result_df = results.sort_values(by='Accuracy-score', ascending=False)\r\n",
    "result_df = result_df.reset_index(drop=True)\r\n",
    "result_df.head()\r\n"
   ],
   "outputs": [
    {
     "output_type": "execute_result",
     "data": {
      "text/html": [
       "<div>\n",
       "<style scoped>\n",
       "    .dataframe tbody tr th:only-of-type {\n",
       "        vertical-align: middle;\n",
       "    }\n",
       "\n",
       "    .dataframe tbody tr th {\n",
       "        vertical-align: top;\n",
       "    }\n",
       "\n",
       "    .dataframe thead th {\n",
       "        text-align: right;\n",
       "    }\n",
       "</style>\n",
       "<table border=\"1\" class=\"dataframe\">\n",
       "  <thead>\n",
       "    <tr style=\"text-align: right;\">\n",
       "      <th></th>\n",
       "      <th>Models</th>\n",
       "      <th>Accuracy-score</th>\n",
       "    </tr>\n",
       "  </thead>\n",
       "  <tbody>\n",
       "    <tr>\n",
       "      <th>0</th>\n",
       "      <td>K-Nearest Neighbours</td>\n",
       "      <td>97.37</td>\n",
       "    </tr>\n",
       "    <tr>\n",
       "      <th>1</th>\n",
       "      <td>Support Vector Machine (SVM)</td>\n",
       "      <td>94.74</td>\n",
       "    </tr>\n",
       "    <tr>\n",
       "      <th>2</th>\n",
       "      <td>Logistic Regression</td>\n",
       "      <td>92.11</td>\n",
       "    </tr>\n",
       "  </tbody>\n",
       "</table>\n",
       "</div>"
      ],
      "text/plain": [
       "                         Models  Accuracy-score\n",
       "0          K-Nearest Neighbours           97.37\n",
       "1  Support Vector Machine (SVM)           94.74\n",
       "2           Logistic Regression           92.11"
      ]
     },
     "metadata": {},
     "execution_count": 45
    }
   ],
   "metadata": {}
  },
  {
   "cell_type": "markdown",
   "source": [
    "# **Plotting a graph of the Accuracies of the models:**"
   ],
   "metadata": {}
  },
  {
   "cell_type": "code",
   "execution_count": 46,
   "source": [
    "#Plotting a graph of the Accuracies of the models:\r\n",
    "\r\n",
    "plt.subplots(figsize=(15, 6))\r\n",
    "ax = sns.barplot(x='Models', y=\"Accuracy-score\",data=result_df, palette=\"rocket\")\r\n",
    "labels = (result_df[\"Accuracy-score\"])\r\n",
    "# add result numbers on barchart\r\n",
    "for i, v in enumerate(labels):\r\n",
    "    ax.text(i, v+1, str(v), horizontalalignment='center', size=15, color='black')\r\n",
    "plt.title('Plotting a graph of the Accuracies of the models')\r\n",
    "plt.show()"
   ],
   "outputs": [
    {
     "output_type": "display_data",
     "data": {
      "image/png": "[encoded data removed]",
      "text/plain": [
       "<Figure size 1080x432 with 1 Axes>"
      ]
     },
     "metadata": {
      "needs_background": "light"
     }
    }
   ],
   "metadata": {}
  },
  {
   "cell_type": "markdown",
   "source": [
    "# **Conclusion:**\r\n",
    "We have just implemented some of the basic data preparation and exploration steps, followed by Exploratory Data Analysis and a few common Machine Learning Algorithms on the iris dataset.\r\n",
    "**I would prefer K-Nearest Neighbours on this dataset because it predicts more accurate result than the other Machine Learning models.**\r\n"
   ],
   "metadata": {}
  },
  {
   "cell_type": "markdown",
   "source": [
    "# **THANK YOU**\r\n",
    "## **DKG12"
   ],
   "metadata": {}
  }
 ],
 "metadata": {
  "orig_nbformat": 4,
  "language_info": {
   "name": "python",
   "version": "3.9.2",
   "mimetype": "text/x-python",
   "codemirror_mode": {
    "name": "ipython",
    "version": 3
   },
   "pygments_lexer": "ipython3",
   "nbconvert_exporter": "python",
   "file_extension": ".py"
  },
  "kernelspec": {
   "name": "python3",
   "display_name": "Python 3.9.2 64-bit"
  },
  "interpreter": {
   "hash": "63fd5069d213b44bf678585dea6b12cceca9941eaf7f819626cde1f2670de90d"
  }
 },
 "nbformat": 4,
 "nbformat_minor": 2
}